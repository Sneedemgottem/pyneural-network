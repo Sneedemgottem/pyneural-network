{
 "cells": [
  {
   "cell_type": "code",
   "execution_count": 4,
   "metadata": {},
   "outputs": [
    {
     "name": "stdout",
     "output_type": "stream",
     "text": [
      "These are the weights\n",
      "[[ 4.67631619  7.7437503 ]\n",
      " [ 2.0323769  -1.97112707]\n",
      " [-7.9824812   0.4173799 ]]\n",
      "\n",
      "These are the biases\n",
      "[[-6.70679706]\n",
      " [ 7.73047202]\n",
      " [ 6.05433027]]\n",
      "\n",
      "using these two inputs\n",
      "[[5]\n",
      " [6]]\n",
      "\n",
      "Dot product of weights `dot` inputs\n",
      "[[ 69.84408278]\n",
      " [ -1.6648779 ]\n",
      " [-37.40812658]]\n",
      "\n",
      "Result of dot product + biases\n",
      "[[ 63.13728571]\n",
      " [  6.06559411]\n",
      " [-31.35379631]]\n",
      "\n",
      "Result after applying sigmoid\n",
      "[[1.00000000e+00]\n",
      " [9.97683998e-01]\n",
      " [2.41668070e-14]]\n"
     ]
    }
   ],
   "source": [
    "import numpy as np\n",
    "\n",
    "numOutputs = 3\n",
    "numInputs = 2\n",
    "\n",
    "print(\"These are the weights\")\n",
    "myWeights = np.random.uniform(-10, 10, (numOutputs, numInputs))\n",
    "print(myWeights)\n",
    "print()\n",
    "\n",
    "print(\"These are the biases\")\n",
    "myBiases = np.random.uniform(-10, 10, (numOutputs, 1))\n",
    "print(myBiases)\n",
    "print()\n",
    "\n",
    "print(\"using these two inputs\")\n",
    "myInputs = np.array([[5], [6]])\n",
    "print(myInputs)\n",
    "print()\n",
    "\n",
    "print(\"Dot product of weights `dot` inputs\")\n",
    "res = myWeights.dot(myInputs)\n",
    "print(res)\n",
    "print()\n",
    "\n",
    "print(\"Result of dot product + biases\")\n",
    "res = res + myBiases\n",
    "print(res)\n",
    "print()\n",
    "\n",
    "from funcs import ActivationFunctions\n",
    "\n",
    "for element in res:\n",
    "    element[0] = ActivationFunctions.sigmoid(element[0])\n",
    "\n",
    "print(\"Result after applying sigmoid\")\n",
    "print(res)"
   ]
  },
  {
   "cell_type": "code",
   "execution_count": 7,
   "metadata": {},
   "outputs": [
    {
     "name": "stdout",
     "output_type": "stream",
     "text": [
      "[[1.56375523e-26]\n",
      " [1.00000000e+00]]\n"
     ]
    }
   ],
   "source": [
    "from nnetwork import NeuralNetwork\n",
    "from funcs import ActivationFunctions\n",
    "\n",
    "\n",
    "nn = NeuralNetwork([2, 2], ActivationFunctions.sigmoid)\n",
    "res = nn.forward(myInputs)\n",
    "\n",
    "print(res)"
   ]
  }
 ],
 "metadata": {
  "kernelspec": {
   "display_name": "Python 3",
   "language": "python",
   "name": "python3"
  },
  "language_info": {
   "codemirror_mode": {
    "name": "ipython",
    "version": 3
   },
   "file_extension": ".py",
   "mimetype": "text/x-python",
   "name": "python",
   "nbconvert_exporter": "python",
   "pygments_lexer": "ipython3",
   "version": "3.11.9"
  }
 },
 "nbformat": 4,
 "nbformat_minor": 2
}
