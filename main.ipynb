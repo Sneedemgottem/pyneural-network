{
 "cells": [
  {
   "cell_type": "code",
   "execution_count": 15,
   "metadata": {},
   "outputs": [
    {
     "name": "stdout",
     "output_type": "stream",
     "text": [
      "These are the weights\n",
      "[[-2.24520446  8.51255995]\n",
      " [-4.7239926  -8.18751213]\n",
      " [-7.64785409 -5.0931955 ]]\n",
      "\n",
      "These are the biases\n",
      "[[-7.92360349]\n",
      " [-1.03983363]\n",
      " [-6.95852239]]\n",
      "\n",
      "using these two inputs\n",
      "[[5]\n",
      " [6]]\n",
      "\n",
      "Dot product of weights `dot` inputs\n",
      "[[ 39.8493374 ]\n",
      " [-72.74503582]\n",
      " [-68.79844346]]\n",
      "\n",
      "Result of dot product + biases\n",
      "[[ 31.92573391]\n",
      " [-73.78486945]\n",
      " [-75.75696586]]\n",
      "\n",
      "Result after applying sigmoid\n",
      "[[1.00000000e+00]\n",
      " [9.02897287e-33]\n",
      " [1.25651525e-33]]\n"
     ]
    }
   ],
   "source": [
    "import numpy as np\n",
    "\n",
    "numOutputs = 3\n",
    "numInputs = 2\n",
    "\n",
    "print(\"These are the weights\")\n",
    "myWeights = np.random.uniform(-10, 10, (numOutputs, numInputs))\n",
    "print(myWeights)\n",
    "print()\n",
    "\n",
    "print(\"These are the biases\")\n",
    "myBiases = np.random.uniform(-10, 10, (numOutputs, 1))\n",
    "print(myBiases)\n",
    "print()\n",
    "\n",
    "print(\"using these two inputs\")\n",
    "myInputs = np.array([[5], [6]])\n",
    "print(myInputs)\n",
    "print()\n",
    "\n",
    "print(\"Dot product of weights `dot` inputs\")\n",
    "res = myWeights.dot(myInputs)\n",
    "print(res)\n",
    "print()\n",
    "\n",
    "print(\"Result of dot product + biases\")\n",
    "res = res + myBiases\n",
    "print(res)\n",
    "print()\n",
    "\n",
    "from funcs import ActivationFunctions\n",
    "\n",
    "for element in res:\n",
    "    element[0] = ActivationFunctions.sigmoid(element[0])\n",
    "\n",
    "print(\"Result after applying sigmoid\")\n",
    "print(res)"
   ]
  },
  {
   "cell_type": "code",
   "execution_count": 17,
   "metadata": {},
   "outputs": [
    {
     "name": "stdout",
     "output_type": "stream",
     "text": [
      "None\n"
     ]
    }
   ],
   "source": [
    "from nnetwork import NeuralNetwork\n",
    "from funcs import ActivationFunctions, CostFunctions\n",
    "\n",
    "nn = NeuralNetwork([2, 2], ActivationFunctions.sigmoid, CostFunctions.mse_node_cost)\n",
    "res = nn._get_cost(myInputs, np.array([[1.0], [0.0]], dtype=float))\n",
    "\n",
    "print(res)"
   ]
  }
 ],
 "metadata": {
  "kernelspec": {
   "display_name": "Python 3",
   "language": "python",
   "name": "python3"
  },
  "language_info": {
   "codemirror_mode": {
    "name": "ipython",
    "version": 3
   },
   "file_extension": ".py",
   "mimetype": "text/x-python",
   "name": "python",
   "nbconvert_exporter": "python",
   "pygments_lexer": "ipython3",
   "version": "3.11.9"
  }
 },
 "nbformat": 4,
 "nbformat_minor": 2
}
